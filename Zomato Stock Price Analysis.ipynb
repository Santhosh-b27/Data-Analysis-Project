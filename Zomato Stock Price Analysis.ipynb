{
 "cells": [
  {
   "cell_type": "code",
   "execution_count": 3,
   "id": "def13c7a-a313-4cd6-b67b-55b15c67d363",
   "metadata": {},
   "outputs": [],
   "source": [
    "import pandas as pd\n",
    "import numpy as np\n",
    "import matplotlib.pyplot as plt\n",
    "import seaborn as sns"
   ]
  },
  {
   "cell_type": "code",
   "execution_count": 4,
   "id": "bfb56530-4027-4e53-865f-58eba9a8ec49",
   "metadata": {},
   "outputs": [
    {
     "name": "stdout",
     "output_type": "stream",
     "text": [
      "           Date        Open        High         Low       Close   Adj Close  \\\n",
      "0    23-07-2021  116.000000  138.899994  115.000000  126.000000  126.000000   \n",
      "1    26-07-2021  126.349998  143.750000  125.300003  140.649994  140.649994   \n",
      "2    27-07-2021  141.699997  147.800003  127.750000  132.899994  132.899994   \n",
      "3    28-07-2021  131.000000  135.000000  123.550003  131.199997  131.199997   \n",
      "4    29-07-2021  134.949997  144.000000  132.199997  141.550003  141.550003   \n",
      "..          ...         ...         ...         ...         ...         ...   \n",
      "693  15-05-2024  188.800003  193.399994  183.149994  192.000000  192.000000   \n",
      "694  16-05-2024  192.899994  195.850006  189.000000  195.199997  195.199997   \n",
      "695  17-05-2024  195.149994  196.000000  193.100006  194.850006  194.850006   \n",
      "696  21-05-2024  194.399994  196.500000  188.750000  189.100006  189.100006   \n",
      "697  22-05-2024  190.000000  190.000000  183.350006  185.500000  185.500000   \n",
      "\n",
      "        Volume  \n",
      "0    694895290  \n",
      "1    249723854  \n",
      "2    240341900  \n",
      "3    159793731  \n",
      "4    117973089  \n",
      "..         ...  \n",
      "693   44772997  \n",
      "694   35478593  \n",
      "695   20841351  \n",
      "696   33453174  \n",
      "697   40354936  \n",
      "\n",
      "[698 rows x 7 columns]\n"
     ]
    }
   ],
   "source": [
    "df=pd.read_csv(\"Zomato Dataset.csv\")\n",
    "print(df)\n"
   ]
  },
  {
   "cell_type": "code",
   "execution_count": 5,
   "id": "588597d4-777f-4991-9449-2c6cf7e15dc1",
   "metadata": {},
   "outputs": [
    {
     "data": {
      "text/html": [
       "<div>\n",
       "<style scoped>\n",
       "    .dataframe tbody tr th:only-of-type {\n",
       "        vertical-align: middle;\n",
       "    }\n",
       "\n",
       "    .dataframe tbody tr th {\n",
       "        vertical-align: top;\n",
       "    }\n",
       "\n",
       "    .dataframe thead th {\n",
       "        text-align: right;\n",
       "    }\n",
       "</style>\n",
       "<table border=\"1\" class=\"dataframe\">\n",
       "  <thead>\n",
       "    <tr style=\"text-align: right;\">\n",
       "      <th></th>\n",
       "      <th>Date</th>\n",
       "      <th>Open</th>\n",
       "      <th>High</th>\n",
       "      <th>Low</th>\n",
       "      <th>Close</th>\n",
       "      <th>Adj Close</th>\n",
       "      <th>Volume</th>\n",
       "    </tr>\n",
       "  </thead>\n",
       "  <tbody>\n",
       "    <tr>\n",
       "      <th>0</th>\n",
       "      <td>23-07-2021</td>\n",
       "      <td>116.000000</td>\n",
       "      <td>138.899994</td>\n",
       "      <td>115.000000</td>\n",
       "      <td>126.000000</td>\n",
       "      <td>126.000000</td>\n",
       "      <td>694895290</td>\n",
       "    </tr>\n",
       "    <tr>\n",
       "      <th>1</th>\n",
       "      <td>26-07-2021</td>\n",
       "      <td>126.349998</td>\n",
       "      <td>143.750000</td>\n",
       "      <td>125.300003</td>\n",
       "      <td>140.649994</td>\n",
       "      <td>140.649994</td>\n",
       "      <td>249723854</td>\n",
       "    </tr>\n",
       "    <tr>\n",
       "      <th>2</th>\n",
       "      <td>27-07-2021</td>\n",
       "      <td>141.699997</td>\n",
       "      <td>147.800003</td>\n",
       "      <td>127.750000</td>\n",
       "      <td>132.899994</td>\n",
       "      <td>132.899994</td>\n",
       "      <td>240341900</td>\n",
       "    </tr>\n",
       "    <tr>\n",
       "      <th>3</th>\n",
       "      <td>28-07-2021</td>\n",
       "      <td>131.000000</td>\n",
       "      <td>135.000000</td>\n",
       "      <td>123.550003</td>\n",
       "      <td>131.199997</td>\n",
       "      <td>131.199997</td>\n",
       "      <td>159793731</td>\n",
       "    </tr>\n",
       "    <tr>\n",
       "      <th>4</th>\n",
       "      <td>29-07-2021</td>\n",
       "      <td>134.949997</td>\n",
       "      <td>144.000000</td>\n",
       "      <td>132.199997</td>\n",
       "      <td>141.550003</td>\n",
       "      <td>141.550003</td>\n",
       "      <td>117973089</td>\n",
       "    </tr>\n",
       "  </tbody>\n",
       "</table>\n",
       "</div>"
      ],
      "text/plain": [
       "         Date        Open        High         Low       Close   Adj Close  \\\n",
       "0  23-07-2021  116.000000  138.899994  115.000000  126.000000  126.000000   \n",
       "1  26-07-2021  126.349998  143.750000  125.300003  140.649994  140.649994   \n",
       "2  27-07-2021  141.699997  147.800003  127.750000  132.899994  132.899994   \n",
       "3  28-07-2021  131.000000  135.000000  123.550003  131.199997  131.199997   \n",
       "4  29-07-2021  134.949997  144.000000  132.199997  141.550003  141.550003   \n",
       "\n",
       "      Volume  \n",
       "0  694895290  \n",
       "1  249723854  \n",
       "2  240341900  \n",
       "3  159793731  \n",
       "4  117973089  "
      ]
     },
     "execution_count": 5,
     "metadata": {},
     "output_type": "execute_result"
    }
   ],
   "source": [
    "df.head()"
   ]
  },
  {
   "cell_type": "code",
   "execution_count": 6,
   "id": "7ec5c85c-82d9-45da-972e-3c33e4b227c1",
   "metadata": {},
   "outputs": [
    {
     "data": {
      "text/html": [
       "<div>\n",
       "<style scoped>\n",
       "    .dataframe tbody tr th:only-of-type {\n",
       "        vertical-align: middle;\n",
       "    }\n",
       "\n",
       "    .dataframe tbody tr th {\n",
       "        vertical-align: top;\n",
       "    }\n",
       "\n",
       "    .dataframe thead th {\n",
       "        text-align: right;\n",
       "    }\n",
       "</style>\n",
       "<table border=\"1\" class=\"dataframe\">\n",
       "  <thead>\n",
       "    <tr style=\"text-align: right;\">\n",
       "      <th></th>\n",
       "      <th>Date</th>\n",
       "      <th>Open</th>\n",
       "      <th>High</th>\n",
       "      <th>Low</th>\n",
       "      <th>Close</th>\n",
       "      <th>Adj Close</th>\n",
       "      <th>Volume</th>\n",
       "    </tr>\n",
       "  </thead>\n",
       "  <tbody>\n",
       "    <tr>\n",
       "      <th>693</th>\n",
       "      <td>15-05-2024</td>\n",
       "      <td>188.800003</td>\n",
       "      <td>193.399994</td>\n",
       "      <td>183.149994</td>\n",
       "      <td>192.000000</td>\n",
       "      <td>192.000000</td>\n",
       "      <td>44772997</td>\n",
       "    </tr>\n",
       "    <tr>\n",
       "      <th>694</th>\n",
       "      <td>16-05-2024</td>\n",
       "      <td>192.899994</td>\n",
       "      <td>195.850006</td>\n",
       "      <td>189.000000</td>\n",
       "      <td>195.199997</td>\n",
       "      <td>195.199997</td>\n",
       "      <td>35478593</td>\n",
       "    </tr>\n",
       "    <tr>\n",
       "      <th>695</th>\n",
       "      <td>17-05-2024</td>\n",
       "      <td>195.149994</td>\n",
       "      <td>196.000000</td>\n",
       "      <td>193.100006</td>\n",
       "      <td>194.850006</td>\n",
       "      <td>194.850006</td>\n",
       "      <td>20841351</td>\n",
       "    </tr>\n",
       "    <tr>\n",
       "      <th>696</th>\n",
       "      <td>21-05-2024</td>\n",
       "      <td>194.399994</td>\n",
       "      <td>196.500000</td>\n",
       "      <td>188.750000</td>\n",
       "      <td>189.100006</td>\n",
       "      <td>189.100006</td>\n",
       "      <td>33453174</td>\n",
       "    </tr>\n",
       "    <tr>\n",
       "      <th>697</th>\n",
       "      <td>22-05-2024</td>\n",
       "      <td>190.000000</td>\n",
       "      <td>190.000000</td>\n",
       "      <td>183.350006</td>\n",
       "      <td>185.500000</td>\n",
       "      <td>185.500000</td>\n",
       "      <td>40354936</td>\n",
       "    </tr>\n",
       "  </tbody>\n",
       "</table>\n",
       "</div>"
      ],
      "text/plain": [
       "           Date        Open        High         Low       Close   Adj Close  \\\n",
       "693  15-05-2024  188.800003  193.399994  183.149994  192.000000  192.000000   \n",
       "694  16-05-2024  192.899994  195.850006  189.000000  195.199997  195.199997   \n",
       "695  17-05-2024  195.149994  196.000000  193.100006  194.850006  194.850006   \n",
       "696  21-05-2024  194.399994  196.500000  188.750000  189.100006  189.100006   \n",
       "697  22-05-2024  190.000000  190.000000  183.350006  185.500000  185.500000   \n",
       "\n",
       "       Volume  \n",
       "693  44772997  \n",
       "694  35478593  \n",
       "695  20841351  \n",
       "696  33453174  \n",
       "697  40354936  "
      ]
     },
     "execution_count": 6,
     "metadata": {},
     "output_type": "execute_result"
    }
   ],
   "source": [
    "df.tail()\n"
   ]
  },
  {
   "cell_type": "code",
   "execution_count": 7,
   "id": "df0a2654-2ec6-4d7a-8eb5-7f7fdf3e2299",
   "metadata": {},
   "outputs": [
    {
     "name": "stdout",
     "output_type": "stream",
     "text": [
      "<class 'pandas.core.frame.DataFrame'>\n",
      "RangeIndex: 698 entries, 0 to 697\n",
      "Data columns (total 7 columns):\n",
      " #   Column     Non-Null Count  Dtype  \n",
      "---  ------     --------------  -----  \n",
      " 0   Date       698 non-null    object \n",
      " 1   Open       698 non-null    float64\n",
      " 2   High       698 non-null    float64\n",
      " 3   Low        698 non-null    float64\n",
      " 4   Close      698 non-null    float64\n",
      " 5   Adj Close  698 non-null    float64\n",
      " 6   Volume     698 non-null    int64  \n",
      "dtypes: float64(5), int64(1), object(1)\n",
      "memory usage: 38.3+ KB\n"
     ]
    }
   ],
   "source": [
    "df.info()"
   ]
  },
  {
   "cell_type": "code",
   "execution_count": 8,
   "id": "bbbd6d1a-a93d-435e-b67a-d344a3188351",
   "metadata": {},
   "outputs": [
    {
     "data": {
      "text/html": [
       "<div>\n",
       "<style scoped>\n",
       "    .dataframe tbody tr th:only-of-type {\n",
       "        vertical-align: middle;\n",
       "    }\n",
       "\n",
       "    .dataframe tbody tr th {\n",
       "        vertical-align: top;\n",
       "    }\n",
       "\n",
       "    .dataframe thead th {\n",
       "        text-align: right;\n",
       "    }\n",
       "</style>\n",
       "<table border=\"1\" class=\"dataframe\">\n",
       "  <thead>\n",
       "    <tr style=\"text-align: right;\">\n",
       "      <th></th>\n",
       "      <th>Open</th>\n",
       "      <th>High</th>\n",
       "      <th>Low</th>\n",
       "      <th>Close</th>\n",
       "      <th>Adj Close</th>\n",
       "      <th>Volume</th>\n",
       "    </tr>\n",
       "  </thead>\n",
       "  <tbody>\n",
       "    <tr>\n",
       "      <th>count</th>\n",
       "      <td>698.000000</td>\n",
       "      <td>698.000000</td>\n",
       "      <td>698.000000</td>\n",
       "      <td>698.000000</td>\n",
       "      <td>698.000000</td>\n",
       "      <td>6.980000e+02</td>\n",
       "    </tr>\n",
       "    <tr>\n",
       "      <th>mean</th>\n",
       "      <td>98.334384</td>\n",
       "      <td>100.335100</td>\n",
       "      <td>96.009026</td>\n",
       "      <td>98.047851</td>\n",
       "      <td>98.047851</td>\n",
       "      <td>6.630727e+07</td>\n",
       "    </tr>\n",
       "    <tr>\n",
       "      <th>std</th>\n",
       "      <td>40.592932</td>\n",
       "      <td>41.323650</td>\n",
       "      <td>39.612367</td>\n",
       "      <td>40.518441</td>\n",
       "      <td>40.518441</td>\n",
       "      <td>7.209595e+07</td>\n",
       "    </tr>\n",
       "    <tr>\n",
       "      <th>min</th>\n",
       "      <td>40.849998</td>\n",
       "      <td>44.400002</td>\n",
       "      <td>40.599998</td>\n",
       "      <td>41.650002</td>\n",
       "      <td>41.650002</td>\n",
       "      <td>0.000000e+00</td>\n",
       "    </tr>\n",
       "    <tr>\n",
       "      <th>25%</th>\n",
       "      <td>63.062499</td>\n",
       "      <td>64.224998</td>\n",
       "      <td>62.000000</td>\n",
       "      <td>62.887498</td>\n",
       "      <td>62.887498</td>\n",
       "      <td>2.981124e+07</td>\n",
       "    </tr>\n",
       "    <tr>\n",
       "      <th>50%</th>\n",
       "      <td>83.599998</td>\n",
       "      <td>85.549999</td>\n",
       "      <td>82.200001</td>\n",
       "      <td>83.900002</td>\n",
       "      <td>83.900002</td>\n",
       "      <td>4.708161e+07</td>\n",
       "    </tr>\n",
       "    <tr>\n",
       "      <th>75%</th>\n",
       "      <td>133.637497</td>\n",
       "      <td>135.687500</td>\n",
       "      <td>131.225002</td>\n",
       "      <td>133.250004</td>\n",
       "      <td>133.250004</td>\n",
       "      <td>7.465835e+07</td>\n",
       "    </tr>\n",
       "    <tr>\n",
       "      <th>max</th>\n",
       "      <td>205.800003</td>\n",
       "      <td>207.199997</td>\n",
       "      <td>194.500000</td>\n",
       "      <td>201.300003</td>\n",
       "      <td>201.300003</td>\n",
       "      <td>6.948953e+08</td>\n",
       "    </tr>\n",
       "  </tbody>\n",
       "</table>\n",
       "</div>"
      ],
      "text/plain": [
       "             Open        High         Low       Close   Adj Close  \\\n",
       "count  698.000000  698.000000  698.000000  698.000000  698.000000   \n",
       "mean    98.334384  100.335100   96.009026   98.047851   98.047851   \n",
       "std     40.592932   41.323650   39.612367   40.518441   40.518441   \n",
       "min     40.849998   44.400002   40.599998   41.650002   41.650002   \n",
       "25%     63.062499   64.224998   62.000000   62.887498   62.887498   \n",
       "50%     83.599998   85.549999   82.200001   83.900002   83.900002   \n",
       "75%    133.637497  135.687500  131.225002  133.250004  133.250004   \n",
       "max    205.800003  207.199997  194.500000  201.300003  201.300003   \n",
       "\n",
       "             Volume  \n",
       "count  6.980000e+02  \n",
       "mean   6.630727e+07  \n",
       "std    7.209595e+07  \n",
       "min    0.000000e+00  \n",
       "25%    2.981124e+07  \n",
       "50%    4.708161e+07  \n",
       "75%    7.465835e+07  \n",
       "max    6.948953e+08  "
      ]
     },
     "execution_count": 8,
     "metadata": {},
     "output_type": "execute_result"
    }
   ],
   "source": [
    "df.describe()"
   ]
  },
  {
   "cell_type": "code",
   "execution_count": 11,
   "id": "00a455e0-0350-4d07-9b5f-c21cbc9b466f",
   "metadata": {},
   "outputs": [
    {
     "data": {
      "text/html": [
       "<div>\n",
       "<style scoped>\n",
       "    .dataframe tbody tr th:only-of-type {\n",
       "        vertical-align: middle;\n",
       "    }\n",
       "\n",
       "    .dataframe tbody tr th {\n",
       "        vertical-align: top;\n",
       "    }\n",
       "\n",
       "    .dataframe thead th {\n",
       "        text-align: right;\n",
       "    }\n",
       "</style>\n",
       "<table border=\"1\" class=\"dataframe\">\n",
       "  <thead>\n",
       "    <tr style=\"text-align: right;\">\n",
       "      <th></th>\n",
       "      <th>count</th>\n",
       "      <th>mean</th>\n",
       "      <th>std</th>\n",
       "      <th>min</th>\n",
       "      <th>25%</th>\n",
       "      <th>50%</th>\n",
       "      <th>75%</th>\n",
       "      <th>max</th>\n",
       "    </tr>\n",
       "  </thead>\n",
       "  <tbody>\n",
       "    <tr>\n",
       "      <th>Open</th>\n",
       "      <td>698.0</td>\n",
       "      <td>9.833438e+01</td>\n",
       "      <td>4.059293e+01</td>\n",
       "      <td>40.849998</td>\n",
       "      <td>6.306250e+01</td>\n",
       "      <td>8.360000e+01</td>\n",
       "      <td>1.336375e+02</td>\n",
       "      <td>2.058000e+02</td>\n",
       "    </tr>\n",
       "    <tr>\n",
       "      <th>High</th>\n",
       "      <td>698.0</td>\n",
       "      <td>1.003351e+02</td>\n",
       "      <td>4.132365e+01</td>\n",
       "      <td>44.400002</td>\n",
       "      <td>6.422500e+01</td>\n",
       "      <td>8.555000e+01</td>\n",
       "      <td>1.356875e+02</td>\n",
       "      <td>2.072000e+02</td>\n",
       "    </tr>\n",
       "    <tr>\n",
       "      <th>Low</th>\n",
       "      <td>698.0</td>\n",
       "      <td>9.600903e+01</td>\n",
       "      <td>3.961237e+01</td>\n",
       "      <td>40.599998</td>\n",
       "      <td>6.200000e+01</td>\n",
       "      <td>8.220000e+01</td>\n",
       "      <td>1.312250e+02</td>\n",
       "      <td>1.945000e+02</td>\n",
       "    </tr>\n",
       "    <tr>\n",
       "      <th>Close</th>\n",
       "      <td>698.0</td>\n",
       "      <td>9.804785e+01</td>\n",
       "      <td>4.051844e+01</td>\n",
       "      <td>41.650002</td>\n",
       "      <td>6.288750e+01</td>\n",
       "      <td>8.390000e+01</td>\n",
       "      <td>1.332500e+02</td>\n",
       "      <td>2.013000e+02</td>\n",
       "    </tr>\n",
       "    <tr>\n",
       "      <th>Adj Close</th>\n",
       "      <td>698.0</td>\n",
       "      <td>9.804785e+01</td>\n",
       "      <td>4.051844e+01</td>\n",
       "      <td>41.650002</td>\n",
       "      <td>6.288750e+01</td>\n",
       "      <td>8.390000e+01</td>\n",
       "      <td>1.332500e+02</td>\n",
       "      <td>2.013000e+02</td>\n",
       "    </tr>\n",
       "    <tr>\n",
       "      <th>Volume</th>\n",
       "      <td>698.0</td>\n",
       "      <td>6.630727e+07</td>\n",
       "      <td>7.209595e+07</td>\n",
       "      <td>0.000000</td>\n",
       "      <td>2.981124e+07</td>\n",
       "      <td>4.708161e+07</td>\n",
       "      <td>7.465835e+07</td>\n",
       "      <td>6.948953e+08</td>\n",
       "    </tr>\n",
       "  </tbody>\n",
       "</table>\n",
       "</div>"
      ],
      "text/plain": [
       "           count          mean           std        min           25%  \\\n",
       "Open       698.0  9.833438e+01  4.059293e+01  40.849998  6.306250e+01   \n",
       "High       698.0  1.003351e+02  4.132365e+01  44.400002  6.422500e+01   \n",
       "Low        698.0  9.600903e+01  3.961237e+01  40.599998  6.200000e+01   \n",
       "Close      698.0  9.804785e+01  4.051844e+01  41.650002  6.288750e+01   \n",
       "Adj Close  698.0  9.804785e+01  4.051844e+01  41.650002  6.288750e+01   \n",
       "Volume     698.0  6.630727e+07  7.209595e+07   0.000000  2.981124e+07   \n",
       "\n",
       "                    50%           75%           max  \n",
       "Open       8.360000e+01  1.336375e+02  2.058000e+02  \n",
       "High       8.555000e+01  1.356875e+02  2.072000e+02  \n",
       "Low        8.220000e+01  1.312250e+02  1.945000e+02  \n",
       "Close      8.390000e+01  1.332500e+02  2.013000e+02  \n",
       "Adj Close  8.390000e+01  1.332500e+02  2.013000e+02  \n",
       "Volume     4.708161e+07  7.465835e+07  6.948953e+08  "
      ]
     },
     "execution_count": 11,
     "metadata": {},
     "output_type": "execute_result"
    }
   ],
   "source": [
    "df.describe().T"
   ]
  },
  {
   "cell_type": "code",
   "execution_count": 12,
   "id": "299d99f6-8c7d-4af7-84dc-4f5e3658a46a",
   "metadata": {},
   "outputs": [
    {
     "data": {
      "text/html": [
       "<div>\n",
       "<style scoped>\n",
       "    .dataframe tbody tr th:only-of-type {\n",
       "        vertical-align: middle;\n",
       "    }\n",
       "\n",
       "    .dataframe tbody tr th {\n",
       "        vertical-align: top;\n",
       "    }\n",
       "\n",
       "    .dataframe thead th {\n",
       "        text-align: right;\n",
       "    }\n",
       "</style>\n",
       "<table border=\"1\" class=\"dataframe\">\n",
       "  <thead>\n",
       "    <tr style=\"text-align: right;\">\n",
       "      <th></th>\n",
       "      <th>Date</th>\n",
       "    </tr>\n",
       "  </thead>\n",
       "  <tbody>\n",
       "    <tr>\n",
       "      <th>count</th>\n",
       "      <td>698</td>\n",
       "    </tr>\n",
       "    <tr>\n",
       "      <th>unique</th>\n",
       "      <td>698</td>\n",
       "    </tr>\n",
       "    <tr>\n",
       "      <th>top</th>\n",
       "      <td>23-07-2021</td>\n",
       "    </tr>\n",
       "    <tr>\n",
       "      <th>freq</th>\n",
       "      <td>1</td>\n",
       "    </tr>\n",
       "  </tbody>\n",
       "</table>\n",
       "</div>"
      ],
      "text/plain": [
       "              Date\n",
       "count          698\n",
       "unique         698\n",
       "top     23-07-2021\n",
       "freq             1"
      ]
     },
     "execution_count": 12,
     "metadata": {},
     "output_type": "execute_result"
    }
   ],
   "source": [
    "df.describe(include='object')"
   ]
  },
  {
   "cell_type": "code",
   "execution_count": 13,
   "id": "b3de7510-f810-4a36-96a0-b81e21fd359f",
   "metadata": {},
   "outputs": [
    {
     "data": {
      "text/html": [
       "<div>\n",
       "<style scoped>\n",
       "    .dataframe tbody tr th:only-of-type {\n",
       "        vertical-align: middle;\n",
       "    }\n",
       "\n",
       "    .dataframe tbody tr th {\n",
       "        vertical-align: top;\n",
       "    }\n",
       "\n",
       "    .dataframe thead th {\n",
       "        text-align: right;\n",
       "    }\n",
       "</style>\n",
       "<table border=\"1\" class=\"dataframe\">\n",
       "  <thead>\n",
       "    <tr style=\"text-align: right;\">\n",
       "      <th></th>\n",
       "      <th>count</th>\n",
       "      <th>unique</th>\n",
       "      <th>top</th>\n",
       "      <th>freq</th>\n",
       "    </tr>\n",
       "  </thead>\n",
       "  <tbody>\n",
       "    <tr>\n",
       "      <th>Date</th>\n",
       "      <td>698</td>\n",
       "      <td>698</td>\n",
       "      <td>23-07-2021</td>\n",
       "      <td>1</td>\n",
       "    </tr>\n",
       "  </tbody>\n",
       "</table>\n",
       "</div>"
      ],
      "text/plain": [
       "     count unique         top freq\n",
       "Date   698    698  23-07-2021    1"
      ]
     },
     "execution_count": 13,
     "metadata": {},
     "output_type": "execute_result"
    }
   ],
   "source": [
    "df.describe(include='object').T"
   ]
  },
  {
   "cell_type": "code",
   "execution_count": 18,
   "id": "a72cac98-cf6d-4210-86cc-11ce4beb90c1",
   "metadata": {},
   "outputs": [
    {
     "name": "stdout",
     "output_type": "stream",
     "text": [
      "min price is :0      126.000000\n",
      "1      140.649994\n",
      "2      132.899994\n",
      "3      131.199997\n",
      "4      141.550003\n",
      "          ...    \n",
      "693    192.000000\n",
      "694    195.199997\n",
      "695    194.850006\n",
      "696    189.100006\n",
      "697    185.500000\n",
      "Name: Adj Close, Length: 698, dtype: float64,min()$\n"
     ]
    }
   ],
   "source": [
    "print(F\"min price is :{df[min]},min()$\")"
   ]
  },
  {
   "cell_type": "code",
   "execution_count": 19,
   "id": "28b9869a-951e-453d-8f72-e22a0657fb9a",
   "metadata": {},
   "outputs": [
    {
     "name": "stdout",
     "output_type": "stream",
     "text": [
      "Max value: 0      694895290\n",
      "1      249723854\n",
      "2      240341900\n",
      "3      159793731\n",
      "4      117973089\n",
      "         ...    \n",
      "693     44772997\n",
      "694     35478593\n",
      "695     20841351\n",
      "696     33453174\n",
      "697     40354936\n",
      "Name: Volume, Length: 698, dtype: int64,max()$\n"
     ]
    }
   ],
   "source": [
    "print(F\"Max value: {df[max]},max()$\")"
   ]
  },
  {
   "cell_type": "code",
   "execution_count": 24,
   "id": "db548f35-1e4a-4e18-936a-e4ea9527ee23",
   "metadata": {},
   "outputs": [
    {
     "data": {
      "image/png": "[encoded data removed]",
      "text/plain": [
       "<Figure size 1000x500 with 1 Axes>"
      ]
     },
     "metadata": {},
     "output_type": "display_data"
    }
   ],
   "source": [
    "plt.figure(figsize=(10, 5))\n",
    "sns.histplot(df['Open'].dropna(), kde=True, bins=20, color='skyblue')\n",
    "plt.title('Stock Opening Price')\n",
    "plt.xlabel('Opening')\n",
    "plt.ylabel('Frequency')\n",
    "plt.show()\n"
   ]
  },
  {
   "cell_type": "code",
   "execution_count": 26,
   "id": "8fb79376-5f51-4932-bc1f-770fb7c26046",
   "metadata": {},
   "outputs": [
    {
     "data": {
      "image/png": "[encoded data removed]",
      "text/plain": [
       "<Figure size 1000x500 with 1 Axes>"
      ]
     },
     "metadata": {},
     "output_type": "display_data"
    }
   ],
   "source": [
    "plt.figure(figsize=(10, 5))\n",
    "sns.histplot(df['High'].dropna(), kde=True, bins=20, color='lightgreen')\n",
    "plt.title('Stock High Price')\n",
    "plt.xlabel('Opening')\n",
    "plt.ylabel('Frequency')\n",
    "plt.show()"
   ]
  },
  {
   "cell_type": "code",
   "execution_count": 27,
   "id": "bd6bfba4-d19d-46c8-8898-e13b3fce87a3",
   "metadata": {},
   "outputs": [
    {
     "data": {
      "image/png": "[encoded data removed]",
      "text/plain": [
       "<Figure size 1000x500 with 1 Axes>"
      ]
     },
     "metadata": {},
     "output_type": "display_data"
    }
   ],
   "source": [
    "plt.figure(figsize=(10, 5))\n",
    "sns.histplot(df['Low'].dropna(), kde=True, bins=20, color='red')\n",
    "plt.title('Stock Low Price')\n",
    "plt.xlabel('Opening')\n",
    "plt.ylabel('Frequency')\n",
    "plt.show()"
   ]
  },
  {
   "cell_type": "code",
   "execution_count": 35,
   "id": "b85c1be4-78c6-4903-95b9-2d1f49ab8bab",
   "metadata": {},
   "outputs": [
    {
     "data": {
      "image/png": "[encoded data removed]",
      "text/plain": [
       "<Figure size 1000x600 with 1 Axes>"
      ]
     },
     "metadata": {},
     "output_type": "display_data"
    }
   ],
   "source": [
    "plt.figure(figsize=(10, 6))\n",
    "sns.boxplot(x='Open',data=df, color='yellow')\n",
    "plt.title('Open Stock')\n",
    "plt.xlabel('Open Stock')\n",
    "plt.ylabel('High')\n",
    "plt.show()\n"
   ]
  },
  {
   "cell_type": "code",
   "execution_count": 37,
   "id": "f6e39e8a-e118-4b57-ae19-92e2eaac6c36",
   "metadata": {},
   "outputs": [
    {
     "data": {
      "image/png": "[encoded data removed]",
      "text/plain": [
       "<Figure size 1000x600 with 1 Axes>"
      ]
     },
     "metadata": {},
     "output_type": "display_data"
    }
   ],
   "source": [
    "plt.figure(figsize=(10, 6))\n",
    "sns.boxplot(x='High',data=df, color='green')\n",
    "plt.title('High Stock')\n",
    "plt.xlabel('High Stock')\n",
    "plt.ylabel('low')\n",
    "plt.show()"
   ]
  },
  {
   "cell_type": "code",
   "execution_count": 41,
   "id": "f3206733-3417-4037-be72-8c754cf17a49",
   "metadata": {},
   "outputs": [
    {
     "data": {
      "image/png": "[encoded data removed]",
      "text/plain": [
       "<Figure size 1000x600 with 1 Axes>"
      ]
     },
     "metadata": {},
     "output_type": "display_data"
    }
   ],
   "source": [
    "plt.figure(figsize=(10, 6))\n",
    "sns.boxplot(x='Low',data=df, color='LightGreen')\n",
    "plt.title('Low Stock')\n",
    "plt.xlabel('Low Stock')\n",
    "plt.ylabel('high')\n",
    "plt.show()"
   ]
  },
  {
   "cell_type": "code",
   "execution_count": 49,
   "id": "a656620e-afbe-46a7-b06a-68874ebee6e1",
   "metadata": {},
   "outputs": [
    {
     "name": "stdout",
     "output_type": "stream",
     "text": [
      "Max value: 0      694895290\n",
      "1      249723854\n",
      "2      240341900\n",
      "3      159793731\n",
      "4      117973089\n",
      "         ...    \n",
      "693     44772997\n",
      "694     35478593\n",
      "695     20841351\n",
      "696     33453174\n",
      "697     40354936\n",
      "Name: Volume, Length: 698, dtype: int64,max()$\n",
      "min price is :0      126.000000\n",
      "1      140.649994\n",
      "2      132.899994\n",
      "3      131.199997\n",
      "4      141.550003\n",
      "          ...    \n",
      "693    192.000000\n",
      "694    195.199997\n",
      "695    194.850006\n",
      "696    189.100006\n",
      "697    185.500000\n",
      "Name: Adj Close, Length: 698, dtype: float64,min()$\n"
     ]
    }
   ],
   "source": [
    "print(F\"Max value: {df[max]},max()$\")\n",
    "print(F\"min price is :{df[min]},min()$\")"
   ]
  },
  {
   "cell_type": "code",
   "execution_count": null,
   "id": "82dae76d-dc7b-4330-916f-d34530f07c62",
   "metadata": {},
   "outputs": [],
   "source": []
  }
 ],
 "metadata": {
  "kernelspec": {
   "display_name": "Python 3 (ipykernel)",
   "language": "python",
   "name": "python3"
  },
  "language_info": {
   "codemirror_mode": {
    "name": "ipython",
    "version": 3
   },
   "file_extension": ".py",
   "mimetype": "text/x-python",
   "name": "python",
   "nbconvert_exporter": "python",
   "pygments_lexer": "ipython3",
   "version": "3.12.3"
  }
 },
 "nbformat": 4,
 "nbformat_minor": 5
}
